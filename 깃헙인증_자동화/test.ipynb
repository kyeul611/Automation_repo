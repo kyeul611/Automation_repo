{
 "cells": [
  {
   "cell_type": "code",
   "execution_count": 1,
   "id": "d9db913b-2c3f-4d96-ae80-f03eef1b2f69",
   "metadata": {},
   "outputs": [],
   "source": [
    "import json\n",
    "import pymysql\n",
    "\n",
    "from selenium import webdriver\n",
    "from selenium.webdriver.common.by import By\n",
    "from selenium.webdriver.support.ui import WebDriverWait\n",
    "from selenium.webdriver.support import expected_conditions as EC\n",
    "from bs4 import BeautifulSoup\n",
    "import time\n",
    "import re\n",
    "\n",
    "import pandas as pd"
   ]
  },
  {
   "cell_type": "code",
   "execution_count": 2,
   "id": "2605fc9a",
   "metadata": {},
   "outputs": [],
   "source": [
    "options = webdriver.ChromeOptions()\n",
    "options.add_experimental_option(\"debuggerAddress\", \"127.0.0.1:9222\")\n",
    "driver = webdriver.Chrome(options=options)"
   ]
  },
  {
   "cell_type": "code",
   "execution_count": 3,
   "id": "1af53e4e",
   "metadata": {},
   "outputs": [],
   "source": [
    "driver.get(\"https://chat.openai.com/chat\")"
   ]
  },
  {
   "cell_type": "code",
   "execution_count": 10,
   "id": "4cf85f92",
   "metadata": {},
   "outputs": [],
   "source": [
    "queryBar = driver.find_element(By.XPATH, '//*[@id=\"__next\"]/div[1]/div[1]/main/div[2]/form/div/div[2]/textarea')\n",
    "queryBar.send_keys(\"GPT 너에 대해서 간략히 소개해줄래?\")\n",
    "time.sleep(2)\n",
    "queryBar.send_keys(\"\\n\")"
   ]
  },
  {
   "cell_type": "code",
   "execution_count": null,
   "id": "102c9e2c",
   "metadata": {},
   "outputs": [],
   "source": [
    "target = '//*[@id=\"__next\"]/div[1]/div[1]/main/div[2]/form/div/div[2]/button/svg'\n",
    "element = WebDriverWait(driver, 60).until(\n",
    "    EC.presence_of_element_located((By.XPATH, target))\n",
    ")\n",
    "\n",
    "answer = driver.find_element(By.XPATH, '//*[@id=\"__next\"]/div[1]/div[1]/main/div[1]/div/div/div/div[2]/div/div[2]')\n",
    "print(answer.text)"
   ]
  },
  {
   "cell_type": "code",
   "execution_count": 10,
   "id": "1cd8dacb",
   "metadata": {},
   "outputs": [],
   "source": [
    "\n",
    "import openai\n",
    "\n",
    "with open('info.json', 'r') as file:\n",
    "    data = json.load(file)\n",
    "    key = data['openai-api']['key']\n",
    "\n",
    "\n",
    "\n",
    "openai.api_key = key\n",
    "\n"
   ]
  },
  {
   "cell_type": "code",
   "execution_count": null,
   "id": "93749025",
   "metadata": {},
   "outputs": [],
   "source": [
    "key"
   ]
  },
  {
   "cell_type": "code",
   "execution_count": 70,
   "metadata": {},
   "outputs": [],
   "source": [
    "number = '1080'\n",
    "title = '행렬'"
   ]
  },
  {
   "cell_type": "code",
   "execution_count": 71,
   "id": "9a5955af",
   "metadata": {},
   "outputs": [],
   "source": [
    "prompt = f\"\"\"\n",
    "백준 https://www.acmicpc.net/problem/{number}, '{title}' 문제 파이썬으로 풀어줘.\n",
    "입력 예시는 작성 하지마.\n",
    "출력 예시도 작성 하지마.\n",
    "설명도 작성 하지마.\n",
    "코드만 작성해줘.\n",
    "\"\"\""
   ]
  },
  {
   "cell_type": "code",
   "execution_count": 72,
   "id": "9e2744ec",
   "metadata": {},
   "outputs": [],
   "source": [
    "response = openai.ChatCompletion.create(\n",
    "  model=\"gpt-3.5-turbo\",\n",
    "  messages=[{\"role\":\"user\", \"content\":prompt}]\n",
    ")\n"
   ]
  },
  {
   "cell_type": "code",
   "execution_count": 73,
   "id": "24f472d0",
   "metadata": {},
   "outputs": [
    {
     "name": "stdout",
     "output_type": "stream",
     "text": [
      "\n",
      "\n",
      "n, m = map(int, input().split())\n",
      "A = [list(map(int, input())) for _ in range(n)]\n",
      "B = [list(map(int, input())) for _ in range(n)]\n",
      "\n",
      "def flip(x, y):\n",
      "    for i in range(x, x + 3):\n",
      "        for j in range(y, y + 3):\n",
      "            A[i][j] ^= 1\n",
      "\n",
      "ans = 0\n",
      "for i in range(n - 2):\n",
      "    for j in range(m - 2):\n",
      "        if A[i][j] != B[i][j]:\n",
      "            flip(i, j)\n",
      "            ans += 1\n",
      "\n",
      "if A == B:\n",
      "    print(ans)\n",
      "else:\n",
      "    print(-1)\n"
     ]
    }
   ],
   "source": [
    "result = response['choices'][0]['message']['content']\n",
    "print(result)"
   ]
  },
  {
   "cell_type": "code",
   "execution_count": 36,
   "id": "d9bb3af2",
   "metadata": {},
   "outputs": [],
   "source": [
    "with open('result.txt', 'w', encoding='utf8') as f:\n",
    "    f.write(result)"
   ]
  },
  {
   "cell_type": "code",
   "execution_count": null,
   "id": "d26818a4",
   "metadata": {},
   "outputs": [],
   "source": []
  }
 ],
 "metadata": {
  "kernelspec": {
   "display_name": "Python 3",
   "language": "python",
   "name": "python3"
  },
  "language_info": {
   "codemirror_mode": {
    "name": "ipython",
    "version": 3
   },
   "file_extension": ".py",
   "mimetype": "text/x-python",
   "name": "python",
   "nbconvert_exporter": "python",
   "pygments_lexer": "ipython3",
   "version": "3.11.1"
  },
  "vscode": {
   "interpreter": {
    "hash": "240290f4f9dc12487d8c6a5f0a059e6976bab6c6fbff4085d72ce8860e9e579e"
   }
  }
 },
 "nbformat": 4,
 "nbformat_minor": 5
}
