{
 "cells": [
  {
   "cell_type": "code",
   "execution_count": 1,
   "id": "750246bc",
   "metadata": {},
   "outputs": [],
   "source": [
    "import json\n",
    "import pandas as pd\n",
    "\n",
    "from DBUpdater import DBUpdater\n",
    "from crawler import Crawler"
   ]
  },
  {
   "cell_type": "code",
   "execution_count": 2,
   "id": "04599e6c",
   "metadata": {},
   "outputs": [],
   "source": [
    "def getBaekjoonData(crawler):\n",
    "    crawler.login_solved()\n",
    "    df = crawler.read_solved()\n",
    "    \n",
    "    return df"
   ]
  },
  {
   "cell_type": "code",
   "execution_count": 3,
   "id": "0d33e48c",
   "metadata": {},
   "outputs": [],
   "source": [
    "def updateDBBaekjoon(dbupdater, df):\n",
    "    dbupdater.replace_into_db(df)"
   ]
  },
  {
   "cell_type": "code",
   "execution_count": 4,
   "id": "d79e43b5",
   "metadata": {},
   "outputs": [],
   "source": [
    "with open('info.json', 'r') as file:\n",
    "    data = json.load(file)\n",
    "    db_pw = data['db_info']['pw']\n",
    "\n",
    "    id = data['user_info']['id']\n",
    "    pw = data['user_info']['pw']"
   ]
  },
  {
   "cell_type": "code",
   "execution_count": 8,
   "id": "06d31931",
   "metadata": {},
   "outputs": [],
   "source": [
    "\n",
    "crawler = Crawler(id, pw)"
   ]
  },
  {
   "cell_type": "code",
   "execution_count": 9,
   "id": "3a5e9af2",
   "metadata": {},
   "outputs": [
    {
     "name": "stdout",
     "output_type": "stream",
     "text": [
      "백준 문제 크롤링 완료\n"
     ]
    }
   ],
   "source": [
    "df=getBaekjoonData(crawler)"
   ]
  },
  {
   "cell_type": "code",
   "execution_count": 10,
   "id": "44d84693",
   "metadata": {},
   "outputs": [
    {
     "data": {
      "text/plain": [
       "4543"
      ]
     },
     "execution_count": 10,
     "metadata": {},
     "output_type": "execute_result"
    }
   ],
   "source": [
    "len(df)"
   ]
  },
  {
   "cell_type": "code",
   "execution_count": 15,
   "id": "59a88959",
   "metadata": {},
   "outputs": [
    {
     "data": {
      "text/html": [
       "<div>\n",
       "<style scoped>\n",
       "    .dataframe tbody tr th:only-of-type {\n",
       "        vertical-align: middle;\n",
       "    }\n",
       "\n",
       "    .dataframe tbody tr th {\n",
       "        vertical-align: top;\n",
       "    }\n",
       "\n",
       "    .dataframe thead th {\n",
       "        text-align: right;\n",
       "    }\n",
       "</style>\n",
       "<table border=\"1\" class=\"dataframe\">\n",
       "  <thead>\n",
       "    <tr style=\"text-align: right;\">\n",
       "      <th></th>\n",
       "      <th>number</th>\n",
       "      <th>title</th>\n",
       "      <th>isSolved</th>\n",
       "      <th>level</th>\n",
       "      <th>attempt</th>\n",
       "    </tr>\n",
       "  </thead>\n",
       "  <tbody>\n",
       "    <tr>\n",
       "      <th>135</th>\n",
       "      <td>1085</td>\n",
       "      <td>직사각형에서 탈출</td>\n",
       "      <td>False</td>\n",
       "      <td>3</td>\n",
       "      <td>41876</td>\n",
       "    </tr>\n",
       "    <tr>\n",
       "      <th>136</th>\n",
       "      <td>1247</td>\n",
       "      <td>부호</td>\n",
       "      <td>True</td>\n",
       "      <td>3</td>\n",
       "      <td>3162</td>\n",
       "    </tr>\n",
       "    <tr>\n",
       "      <th>137</th>\n",
       "      <td>1267</td>\n",
       "      <td>핸드폰 요금</td>\n",
       "      <td>False</td>\n",
       "      <td>3</td>\n",
       "      <td>6817</td>\n",
       "    </tr>\n",
       "    <tr>\n",
       "      <th>138</th>\n",
       "      <td>1284</td>\n",
       "      <td>집 주소</td>\n",
       "      <td>False</td>\n",
       "      <td>3</td>\n",
       "      <td>3491</td>\n",
       "    </tr>\n",
       "    <tr>\n",
       "      <th>139</th>\n",
       "      <td>1547</td>\n",
       "      <td>공</td>\n",
       "      <td>False</td>\n",
       "      <td>3</td>\n",
       "      <td>7999</td>\n",
       "    </tr>\n",
       "    <tr>\n",
       "      <th>...</th>\n",
       "      <td>...</td>\n",
       "      <td>...</td>\n",
       "      <td>...</td>\n",
       "      <td>...</td>\n",
       "      <td>...</td>\n",
       "    </tr>\n",
       "    <tr>\n",
       "      <th>368</th>\n",
       "      <td>26145</td>\n",
       "      <td>출제비 재분배</td>\n",
       "      <td>False</td>\n",
       "      <td>3</td>\n",
       "      <td>385</td>\n",
       "    </tr>\n",
       "    <tr>\n",
       "      <th>369</th>\n",
       "      <td>26264</td>\n",
       "      <td>빅데이터? 정보보호!</td>\n",
       "      <td>False</td>\n",
       "      <td>3</td>\n",
       "      <td>582</td>\n",
       "    </tr>\n",
       "    <tr>\n",
       "      <th>370</th>\n",
       "      <td>26645</td>\n",
       "      <td>성장의 비약 선택권</td>\n",
       "      <td>False</td>\n",
       "      <td>3</td>\n",
       "      <td>433</td>\n",
       "    </tr>\n",
       "    <tr>\n",
       "      <th>371</th>\n",
       "      <td>27159</td>\n",
       "      <td>노 땡스!</td>\n",
       "      <td>False</td>\n",
       "      <td>3</td>\n",
       "      <td>805</td>\n",
       "    </tr>\n",
       "    <tr>\n",
       "      <th>372</th>\n",
       "      <td>27465</td>\n",
       "      <td>소수가 아닌 수</td>\n",
       "      <td>False</td>\n",
       "      <td>3</td>\n",
       "      <td>599</td>\n",
       "    </tr>\n",
       "  </tbody>\n",
       "</table>\n",
       "<p>238 rows × 5 columns</p>\n",
       "</div>"
      ],
      "text/plain": [
       "     number        title  isSolved  level  attempt\n",
       "135    1085    직사각형에서 탈출     False      3    41876\n",
       "136    1247           부호      True      3     3162\n",
       "137    1267       핸드폰 요금     False      3     6817\n",
       "138    1284         집 주소     False      3     3491\n",
       "139    1547            공     False      3     7999\n",
       "..      ...          ...       ...    ...      ...\n",
       "368   26145      출제비 재분배     False      3      385\n",
       "369   26264  빅데이터? 정보보호!     False      3      582\n",
       "370   26645   성장의 비약 선택권     False      3      433\n",
       "371   27159        노 땡스!     False      3      805\n",
       "372   27465     소수가 아닌 수     False      3      599\n",
       "\n",
       "[238 rows x 5 columns]"
      ]
     },
     "execution_count": 15,
     "metadata": {},
     "output_type": "execute_result"
    }
   ],
   "source": [
    "df[df['level']==3]"
   ]
  },
  {
   "cell_type": "code",
   "execution_count": 17,
   "id": "b650af5c",
   "metadata": {},
   "outputs": [],
   "source": [
    "df.to_csv('baekjoon_info.csv', encoding='utf8')"
   ]
  },
  {
   "cell_type": "code",
   "execution_count": 5,
   "id": "2946d847",
   "metadata": {},
   "outputs": [],
   "source": [
    "df = pd.read_csv('baekjoon_info.csv')"
   ]
  },
  {
   "cell_type": "code",
   "execution_count": 5,
   "id": "a4e99365",
   "metadata": {},
   "outputs": [],
   "source": [
    "\n",
    "dbupdater = DBUpdater(db_pw)"
   ]
  },
  {
   "cell_type": "code",
   "execution_count": 6,
   "id": "3d5f97ca",
   "metadata": {},
   "outputs": [
    {
     "name": "stderr",
     "output_type": "stream",
     "text": [
      "c:\\Users\\Kyeul\\Desktop\\code\\Automation_repo-master\\Automation_repo-master\\깃헙인증_자동화\\DBUpdater.py:101: UserWarning: pandas only supports SQLAlchemy connectable (engine/connection) or database string URI or sqlite3 DBAPI2 connection. Other DBAPI2 objects are not tested. Please consider using SQLAlchemy.\n",
      "  df = pd.read_sql(sql, self.conn)\n"
     ]
    }
   ],
   "source": [
    "number, title = dbupdater.select_problem()"
   ]
  },
  {
   "cell_type": "code",
   "execution_count": 7,
   "id": "9daac26f",
   "metadata": {},
   "outputs": [],
   "source": [
    "query = f\"\"\"\n",
    "백준 {number}, '{title}' 파이썬으로 풀어줘.\n",
    "입력 예시는 작성 하지마.\n",
    "출력 예시도 작성 하지마.\n",
    "설명도 작성 하지마.\n",
    "코드만 작성해줘.\n",
    "\"\"\""
   ]
  },
  {
   "cell_type": "code",
   "execution_count": 8,
   "id": "5ee9c58c",
   "metadata": {},
   "outputs": [
    {
     "name": "stdout",
     "output_type": "stream",
     "text": [
      "\n",
      "백준 1004, '어린 왕자' 파이썬으로 풀어줘.\n",
      "입력 예시는 작성 하지마.\n",
      "출력 예시도 작성 하지마.\n",
      "설명도 작성 하지마.\n",
      "코드만 작성해줘.\n",
      "\n"
     ]
    }
   ],
   "source": [
    "print(query)"
   ]
  },
  {
   "cell_type": "code",
   "execution_count": 9,
   "id": "1cd8dacb",
   "metadata": {},
   "outputs": [],
   "source": [
    "\n",
    "import openai\n",
    "\n",
    "with open('info.json', 'r') as file:\n",
    "    data = json.load(file)\n",
    "    key = data['openai-api']['key']\n",
    "\n",
    "\n",
    "openai.api_key = key\n",
    "\n"
   ]
  },
  {
   "cell_type": "code",
   "execution_count": 12,
   "id": "58158fbc",
   "metadata": {},
   "outputs": [
    {
     "name": "stdout",
     "output_type": "stream",
     "text": [
      "1004문제의 시도 횟수: 1\n"
     ]
    }
   ],
   "source": [
    "dbupdater.plus_attempt(number)"
   ]
  },
  {
   "cell_type": "code",
   "execution_count": 10,
   "id": "9e2744ec",
   "metadata": {},
   "outputs": [
    {
     "name": "stdout",
     "output_type": "stream",
     "text": [
      "\n",
      "\n",
      "import math\n",
      "\n",
      "T = int(input())\n",
      "\n",
      "for _ in range(T):\n",
      "    x1, y1, x2, y2 = map(int, input().split())\n",
      "    n = int(input())\n",
      "    count = 0\n",
      "    \n",
      "    for i in range(n):\n",
      "        cx, cy, r = map(int, input().split())\n",
      "        d1 = math.sqrt((cx-x1)**2 + (cy-y1)**2)\n",
      "        d2 = math.sqrt((cx-x2)**2 + (cy-y2)**2)\n",
      "        if (d1 < r and d2 > r) or (d1 > r and d2 < r):\n",
      "            count += 1\n",
      "    \n",
      "    print(count)\n"
     ]
    }
   ],
   "source": [
    "response = openai.ChatCompletion.create(\n",
    "  model=\"gpt-3.5-turbo\",\n",
    "  messages=[{\"role\":\"user\", \"content\":query}]\n",
    ")\n",
    "result = response['choices'][0]['message']['content']\n",
    "print(result)"
   ]
  },
  {
   "cell_type": "code",
   "execution_count": 13,
   "id": "24f472d0",
   "metadata": {},
   "outputs": [
    {
     "name": "stdout",
     "output_type": "stream",
     "text": [
      "f{number} 문제를 해결했습니다.\n"
     ]
    }
   ],
   "source": [
    "dbupdater.update_isSolved(number)"
   ]
  },
  {
   "cell_type": "code",
   "execution_count": 36,
   "id": "d9bb3af2",
   "metadata": {},
   "outputs": [],
   "source": [
    "with open('result.txt', 'w', encoding='utf8') as f:\n",
    "    f.write(result)"
   ]
  },
  {
   "cell_type": "code",
   "execution_count": null,
   "id": "d26818a4",
   "metadata": {},
   "outputs": [],
   "source": []
  },
  {
   "cell_type": "code",
   "execution_count": 1,
   "id": "3a5fd2fc",
   "metadata": {},
   "outputs": [],
   "source": [
    "import json\n",
    "\n",
    "from DBUpdater import DBUpdater\n",
    "from crawler import Crawler\n",
    "from run_gpt import RunGPT"
   ]
  },
  {
   "cell_type": "code",
   "execution_count": 10,
   "id": "a2366caa",
   "metadata": {},
   "outputs": [],
   "source": [
    "def getBaekjoonData(crawler):\n",
    "    # 솔브드 크롤링\n",
    "    # 웹에 로그인 한 뒤 데이터를 모은다.\n",
    "    crawler.login_solved()\n",
    "    df = crawler.read_solved()\n",
    "    \n",
    "    return df\n",
    "\n",
    "def updateDBBaekjoon(dbupdater, df):\n",
    "    dbupdater.replace_into_db(df)\n",
    "\n",
    "\n",
    "def get_solution_baekjoon_with_GPT(dbupdater, runGPT):\n",
    "    number, title = dbupdater.select_problem() # DB에서 적정 문제 가져오기\n",
    "\n",
    "    query = f\"\"\"\n",
    "            백준 {number}, '{title}' 파이썬으로 풀어줘.\n",
    "            입력 예시는 작성 하지마.\n",
    "            출력 예시도 작성 하지마.\n",
    "            설명도 작성 하지마.\n",
    "            코드만 작성해줘.\n",
    "            \"\"\"\n",
    "    result_code = runGPT.run(query)\n",
    "\n",
    "    with open(f'{number}_solution.py', 'w') as f:\n",
    "        f.write(result_code)"
   ]
  },
  {
   "cell_type": "code",
   "execution_count": 4,
   "id": "c17d0986",
   "metadata": {},
   "outputs": [],
   "source": [
    "with open('info.json', 'r') as file:\n",
    "    data = json.load(file)\n",
    "    db_pw = data['db_info']['pw']\n",
    "\n",
    "    id = data['user_info']['id']\n",
    "    pw = data['user_info']['pw']\n",
    "\n",
    "    key = data['openai-api']['key']"
   ]
  },
  {
   "cell_type": "code",
   "execution_count": 5,
   "id": "a63e3927",
   "metadata": {},
   "outputs": [],
   "source": [
    "dbupdater = DBUpdater(db_pw)\n",
    "runGPT = RunGPT(key)"
   ]
  },
  {
   "cell_type": "code",
   "execution_count": 11,
   "id": "82df9145",
   "metadata": {},
   "outputs": [
    {
     "name": "stderr",
     "output_type": "stream",
     "text": [
      "c:\\Users\\Kyeul\\Desktop\\code\\Automation_repo-master\\Automation_repo-master\\깃헙인증_자동화\\DBUpdater.py:101: UserWarning: pandas only supports SQLAlchemy connectable (engine/connection) or database string URI or sqlite3 DBAPI2 connection. Other DBAPI2 objects are not tested. Please consider using SQLAlchemy.\n",
      "  df = pd.read_sql(sql, self.conn)\n"
     ]
    }
   ],
   "source": [
    "get_solution_baekjoon_with_GPT(dbupdater, runGPT)"
   ]
  },
  {
   "cell_type": "code",
   "execution_count": null,
   "id": "ab135d77",
   "metadata": {},
   "outputs": [],
   "source": []
  }
 ],
 "metadata": {
  "kernelspec": {
   "display_name": "Python 3",
   "language": "python",
   "name": "python3"
  },
  "language_info": {
   "codemirror_mode": {
    "name": "ipython",
    "version": 3
   },
   "file_extension": ".py",
   "mimetype": "text/x-python",
   "name": "python",
   "nbconvert_exporter": "python",
   "pygments_lexer": "ipython3",
   "version": "3.10.9"
  },
  "vscode": {
   "interpreter": {
    "hash": "240290f4f9dc12487d8c6a5f0a059e6976bab6c6fbff4085d72ce8860e9e579e"
   }
  }
 },
 "nbformat": 4,
 "nbformat_minor": 5
}
