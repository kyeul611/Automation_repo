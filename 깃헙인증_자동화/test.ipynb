{
 "cells": [
  {
   "cell_type": "code",
   "execution_count": 1,
   "id": "d9db913b-2c3f-4d96-ae80-f03eef1b2f69",
   "metadata": {},
   "outputs": [],
   "source": [
    "import json\n",
    "import pymysql\n",
    "\n",
    "from selenium import webdriver\n",
    "from selenium.webdriver.common.by import By\n",
    "from selenium.webdriver.support.ui import WebDriverWait\n",
    "from selenium.webdriver.support import expected_conditions as EC\n",
    "from bs4 import BeautifulSoup\n",
    "\n",
    "import re\n",
    "\n",
    "import pandas as pd"
   ]
  },
  {
   "cell_type": "code",
   "execution_count": 2,
   "id": "e3e84b8c-c4e1-4b09-9965-7db0d4d144a7",
   "metadata": {},
   "outputs": [],
   "source": [
    "# 크롬 드라이버 설정\n",
    "global driver\n",
    "driver = webdriver.Chrome()\n",
    "global wait\n",
    "wait = WebDriverWait(driver, 20)\n",
    "\n",
    "# User-Agent 설정\n",
    "user_agent = 'Mozilla/5.0 (Windows NT 10.0; Win64; x64) AppleWebKit/537.36 (KHTML, like Gecko) Chrome/110.0.0.0 Safari/537.36'\n",
    "options = webdriver.ChromeOptions()\n",
    "options.add_argument('user-agent=' + user_agent)"
   ]
  },
  {
   "cell_type": "code",
   "execution_count": 3,
   "id": "f533e8c1-65eb-475b-be9e-114184a25077",
   "metadata": {},
   "outputs": [],
   "source": [
    "with open('info.json', 'r') as file:\n",
    "    data = json.load(file)\n",
    "    db_pw = data['db_info']['pw']\n",
    "\n",
    "    id = data['user_info']['id']\n",
    "    pw = data['user_info']['pw']"
   ]
  },
  {
   "cell_type": "code",
   "execution_count": 13,
   "id": "a0e5cba1-92c5-4a75-8a1c-baf295c03248",
   "metadata": {},
   "outputs": [],
   "source": [
    "def __init__(db_pw):\n",
    "\n",
    "    global conn\n",
    "    conn = pymysql.connect(host='127.0.0.1', user='root', password=db_pw, db='baekjoon', charset='utf8')\n",
    "\n",
    "    with conn.cursor() as curs:\n",
    "        sql=\"\"\"\n",
    "        CREATE TABLE IF NOT EXISTS problem_info(\n",
    "            number INT,\n",
    "            title VARCHAR(40),\n",
    "            isSolved BOOLEAN,\n",
    "            level INT,\n",
    "            korean BOOLEAN,\n",
    "            PRIMARY KEY (number)\n",
    "        );\n",
    "\n",
    "        \"\"\"\n",
    "        curs.execute(sql)\n",
    "\n",
    "    conn.commit()"
   ]
  },
  {
   "cell_type": "code",
   "execution_count": 4,
   "id": "6da950eb-0f66-4bff-94fd-59157c2f830d",
   "metadata": {},
   "outputs": [],
   "source": [
    "def login_solved(id, pw):\n",
    "    '''\n",
    "    solved 웹사이트에 접속해서 계정으로 로그인한다.\n",
    "    '''\n",
    "    login_url = \"https://www.acmicpc.net/login?next=%2Fsso%3Fsso%3Dbm9uY2U9YTM5YWVhYTk4MWNhYjU1YWEwZDRlZDQ4Nzc3NzEzOGM%253D%26sig%3D1ca260b9abbbe4df2b002254dd94a7f31b373ff0270b243408963284f8fcd7a1%26redirect%3Dhttps%253A%252F%252Fsolved.ac%252Fapi%252Fv3%252Fauth%252Fsso%253Fprev%253D%25252F\"\n",
    "    driver.get(login_url)\n",
    "\n",
    "    # 로그인 페이지에서 계정 정보를 입력하고 클릭한다.\n",
    "    wait.until(\n",
    "        EC.presence_of_all_elements_located((By.XPATH, '//*[@id=\"login_form\"]/div[2]/input'))\n",
    "    )\n",
    "\n",
    "    user_id = driver.find_element(By.XPATH, '//*[@id=\"login_form\"]/div[2]/input')\n",
    "    user_pw = driver.find_element(By.XPATH, '//*[@id=\"login_form\"]/div[3]/input')\n",
    "\n",
    "    user_id.send_keys(id)\n",
    "    user_pw.send_keys(pw)\n",
    "\n",
    "    login_bt = driver.find_element(By.XPATH, '//*[@id=\"submit_button\"]')\n",
    "    login_bt.click()  \n",
    "\n",
    "    # 백준 계정으로 솔브드에 로그인할지 묻는 화면. 수락을 클릭함\n",
    "    wait.until(\n",
    "        EC.presence_of_all_elements_located((By.XPATH, '//*[@id=\"login_form\"]/div[4]/div[2]/a'))\n",
    "    )\n",
    "\n",
    "    login_bt_2 = driver.find_element(By.XPATH, '//*[@id=\"login_form\"]/div[4]/div[2]/a')\n",
    "    login_bt_2.click()"
   ]
  },
  {
   "cell_type": "code",
   "execution_count": 5,
   "id": "cbaec2c3-394b-4e89-980f-274c0d9a92b7",
   "metadata": {},
   "outputs": [],
   "source": [
    "def read_solved():\n",
    "    '''\n",
    "    솔브드 레벨을 순회하며 문제 정보를 스크래핑한다.\n",
    "    '''\n",
    "\n",
    "\n",
    "    def has_korean(text):\n",
    "        '''\n",
    "        텍스트에 한글을 포함하고 있는지 확인하는 코드\n",
    "        '''\n",
    "        # 한글 유니코드 범위: AC00-D7AF\n",
    "        korean_regex = re.compile(\"[\\uac00-\\ud7af]+\")\n",
    "        return bool(korean_regex.search(text))\n",
    "\n",
    "\n",
    "    max_level = 15 # 골드 1\n",
    "\n",
    "    for level in range(1, max_level+1):\n",
    "        # 각 레벨의 1페이지에 접속하고 html 텍스트 정보를 파싱함\n",
    "        url = f'https://solved.ac/problems/level/{level}'\n",
    "        driver.get(url)\n",
    "        html = BeautifulSoup(driver.page_source, 'lxml')\n",
    "\n",
    "        # 마지막 페이지 번호 추출\n",
    "        last_page = int(html.find_all('a', {'class':'css-1yjorof'})[-1].text)\n",
    "\n",
    "        # 1페이지의 데이터를 수집함.\n",
    "        df = pd.DataFrame(columns=['number', 'title','isSolved', 'level', 'korean'])\n",
    "\n",
    "        rows = html.find_all('tr', {'class':'css-1ojb0xa'})\n",
    "\n",
    "        for row in range(1, len(rows)):\n",
    "            info = rows[row].find_all('a', {'class':'css-q9j30p'})\n",
    "            number = int(info[0].find('span').text)\n",
    "            title = info[1].find('span', {'class':'__Latex__'}).text\n",
    "            isSolved = True if rows[row].find_all('span', {'class':'ac'}) else False\n",
    "            korean = has_korean(title)\n",
    "\n",
    "            # 데이터 삽입\n",
    "            df.loc[len(df)] = [number, title, isSolved, level, korean]\n",
    "\n",
    "\n",
    "        # 2페이지부터 순회하며 데이터 수집\n",
    "        for page in range(2, last_page + 1):\n",
    "            pg_url = f'?page={page}'\n",
    "            driver.get(url+pg_url)\n",
    "            html = BeautifulSoup(driver.page_source, 'lxml')\n",
    "\n",
    "            rows = html.find_all('tr', {'class':'css-1ojb0xa'})\n",
    "\n",
    "            for row in range(1, len(rows)):\n",
    "                info = rows[row].find_all('a', {'class':'css-q9j30p'})\n",
    "                number = int(info[0].find('span').text)\n",
    "                title = info[1].find('span', {'class':'__Latex__'}).text\n",
    "                isSolved = True if rows[row].find_all('span', {'class':'ac'}) else False\n",
    "                korean = has_korean(title)\n",
    "\n",
    "                # 데이터 삽입\n",
    "                df.loc[len(df)] = [number, title, isSolved, level, korean]\n",
    "    print(\"백준 문제 크롤링 완료\")            \n",
    "    return df"
   ]
  },
  {
   "cell_type": "code",
   "execution_count": 18,
   "id": "349a3136-a279-47c1-be41-ed7137517bbe",
   "metadata": {},
   "outputs": [],
   "source": [
    "def insert_into_db(df):\n",
    "    '''\n",
    "    데이터베이스의 데이터를 입력한다.\n",
    "    '''\n",
    "    with conn.cursor() as curs:\n",
    "        for r in df.itertuples(index=False):\n",
    "            print(r)\n",
    "            sql=f\"INSERT INTO problem_info VALUES ({r.number}, {r.title}, {r.isSolved}, {r.level}, {r.korean})\"\n",
    "            curs.execute(sql)\n",
    "\n",
    "        conn.commit()\n",
    "    print(f\"[{len(df)}]개의 데이터 DB 저장 완료\")"
   ]
  },
  {
   "cell_type": "code",
   "execution_count": 14,
   "id": "e3d6101f-abed-4ca0-874c-bcfed588f593",
   "metadata": {},
   "outputs": [],
   "source": [
    "__init__(db_pw)"
   ]
  },
  {
   "cell_type": "code",
   "execution_count": 9,
   "id": "2028ebde-5ec6-4a62-9e91-0ccdaaeadabc",
   "metadata": {},
   "outputs": [],
   "source": [
    "login_solved(id, pw)"
   ]
  },
  {
   "cell_type": "code",
   "execution_count": 15,
   "id": "33b19724-8757-40a4-b170-f86a08383aa5",
   "metadata": {},
   "outputs": [
    {
     "name": "stdout",
     "output_type": "stream",
     "text": [
      "백준 문제 크롤링 완료\n"
     ]
    }
   ],
   "source": [
    "df=read_solved()"
   ]
  },
  {
   "cell_type": "code",
   "execution_count": null,
   "id": "15d085a1-d51a-4589-abf7-d3a519115669",
   "metadata": {},
   "outputs": [],
   "source": [
    "conn.close()"
   ]
  },
  {
   "cell_type": "code",
   "execution_count": null,
   "id": "ada974f8-de6b-4af3-a8c9-b2b8db60d45e",
   "metadata": {},
   "outputs": [
    {
     "name": "stdout",
     "output_type": "stream",
     "text": [
      "1016 제곱 ㄴㄴ 수 False 15 True\n"
     ]
    }
   ],
   "source": [
    "\n",
    "conn = pymysql.connect(host='127.0.0.1', user='root', password=db_pw, db='baekjoon', charset='utf8')\n",
    "with conn.cursor() as curs:\n",
    "    for r in df.itertuples(index=False):\n",
    "        print(r.number, r.title, r.isSolved, r.level, r.korean)\n",
    "        sql=f\"INSERT INTO problem_info VALUES ({r.number}, '{r.title}', {r.isSolved}, {r.level}, {r.korean})\"\n",
    "        # sql=f\"INSERT INTO problem_info VALUES (%s, '%s', %s, %s, %s)\" %(r.number, r.title, r.isSolved, r.level, r.korean)\n",
    "        curs.execute(sql)\n",
    "    conn.commit()"
   ]
  },
  {
   "cell_type": "code",
   "execution_count": null,
   "id": "e0192eb6-f1c1-4387-9aea-1e83e55daeb5",
   "metadata": {},
   "outputs": [],
   "source": []
  }
 ],
 "metadata": {
  "kernelspec": {
   "display_name": "Python 3 (ipykernel)",
   "language": "python",
   "name": "python3"
  },
  "language_info": {
   "codemirror_mode": {
    "name": "ipython",
    "version": 3
   },
   "file_extension": ".py",
   "mimetype": "text/x-python",
   "name": "python",
   "nbconvert_exporter": "python",
   "pygments_lexer": "ipython3",
   "version": "3.9.12"
  }
 },
 "nbformat": 4,
 "nbformat_minor": 5
}
