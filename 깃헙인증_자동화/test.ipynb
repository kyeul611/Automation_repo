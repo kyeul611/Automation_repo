{
 "cells": [
  {
   "cell_type": "code",
   "execution_count": 11,
   "id": "750246bc",
   "metadata": {},
   "outputs": [],
   "source": [
    "import json\n",
    "\n",
    "\n",
    "from DBUpdater import DBUpdater\n",
    "from crawler import Crawler"
   ]
  },
  {
   "cell_type": "code",
   "execution_count": 2,
   "id": "04599e6c",
   "metadata": {},
   "outputs": [],
   "source": [
    "def getBaekjoonData(crawler):\n",
    "    crawler.login_solved()\n",
    "    df = crawler.read_solved()\n",
    "    \n",
    "    return df"
   ]
  },
  {
   "cell_type": "code",
   "execution_count": 3,
   "id": "0d33e48c",
   "metadata": {},
   "outputs": [],
   "source": [
    "def updateDBBaekjoon(dbupdater, df):\n",
    "    dbupdater.replace_into_db(df)"
   ]
  },
  {
   "cell_type": "code",
   "execution_count": 4,
   "id": "d79e43b5",
   "metadata": {},
   "outputs": [],
   "source": [
    "with open('info.json', 'r') as file:\n",
    "    data = json.load(file)\n",
    "    db_pw = data['db_info']['pw']\n",
    "\n",
    "    id = data['user_info']['id']\n",
    "    pw = data['user_info']['pw']"
   ]
  },
  {
   "cell_type": "code",
   "execution_count": 5,
   "id": "06d31931",
   "metadata": {},
   "outputs": [],
   "source": [
    "\n",
    "crawler = Crawler(id, pw)"
   ]
  },
  {
   "cell_type": "code",
   "execution_count": 6,
   "id": "3a5e9af2",
   "metadata": {},
   "outputs": [
    {
     "name": "stdout",
     "output_type": "stream",
     "text": [
      "백준 문제 크롤링 완료\n"
     ]
    }
   ],
   "source": [
    "df=getBaekjoonData(crawler)"
   ]
  },
  {
   "cell_type": "code",
   "execution_count": 26,
   "id": "b650af5c",
   "metadata": {},
   "outputs": [],
   "source": [
    "df.to_csv('baekjoon_info.csv', encoding='utf8')"
   ]
  },
  {
   "cell_type": "code",
   "execution_count": 23,
   "id": "a938807e",
   "metadata": {},
   "outputs": [],
   "source": [
    "from DBUpdater import DBUpdater"
   ]
  },
  {
   "cell_type": "code",
   "execution_count": 24,
   "id": "a4e99365",
   "metadata": {},
   "outputs": [],
   "source": [
    "\n",
    "dbupdater = DBUpdater(db_pw)"
   ]
  },
  {
   "cell_type": "code",
   "execution_count": 25,
   "id": "f93a5732",
   "metadata": {},
   "outputs": [
    {
     "name": "stdout",
     "output_type": "stream",
     "text": [
      "Pandas(number=1271, title='엄청난 부자2', isSolved=True, level=1, attempt=12735)\n"
     ]
    },
    {
     "ename": "OperationalError",
     "evalue": "(1136, \"Column count doesn't match value count at row 1\")",
     "output_type": "error",
     "traceback": [
      "\u001b[1;31m---------------------------------------------------------------------------\u001b[0m",
      "\u001b[1;31mOperationalError\u001b[0m                          Traceback (most recent call last)",
      "Cell \u001b[1;32mIn[25], line 1\u001b[0m\n\u001b[1;32m----> 1\u001b[0m updateDBBaekjoon(dbupdater, df)\n",
      "Cell \u001b[1;32mIn[3], line 2\u001b[0m, in \u001b[0;36mupdateDBBaekjoon\u001b[1;34m(dbupdater, df)\u001b[0m\n\u001b[0;32m      1\u001b[0m \u001b[39mdef\u001b[39;00m \u001b[39mupdateDBBaekjoon\u001b[39m(dbupdater, df):\n\u001b[1;32m----> 2\u001b[0m     dbupdater\u001b[39m.\u001b[39;49mreplace_into_db(df)\n",
      "File \u001b[1;32mc:\\Users\\Kyeul\\Desktop\\code\\Automation_repo-master\\Automation_repo-master\\깃헙인증_자동화\\DBUpdater.py:61\u001b[0m, in \u001b[0;36mDBUpdater.replace_into_db\u001b[1;34m(self, df)\u001b[0m\n\u001b[0;32m     59\u001b[0m \u001b[39mprint\u001b[39m(r)\n\u001b[0;32m     60\u001b[0m sql\u001b[39m=\u001b[39m\u001b[39mf\u001b[39m\u001b[39m\"\u001b[39m\u001b[39mREPLACE INTO problem_info VALUES (\u001b[39m\u001b[39m{\u001b[39;00mr\u001b[39m.\u001b[39mnumber\u001b[39m}\u001b[39;00m\u001b[39m, \u001b[39m\u001b[39m'\u001b[39m\u001b[39m{\u001b[39;00mr\u001b[39m.\u001b[39mtitle\u001b[39m}\u001b[39;00m\u001b[39m'\u001b[39m\u001b[39m, \u001b[39m\u001b[39m{\u001b[39;00mr\u001b[39m.\u001b[39mlevel\u001b[39m}\u001b[39;00m\u001b[39m, \u001b[39m\u001b[39m{\u001b[39;00mr\u001b[39m.\u001b[39mattempt\u001b[39m}\u001b[39;00m\u001b[39m);\u001b[39m\u001b[39m\"\u001b[39m\n\u001b[1;32m---> 61\u001b[0m curs\u001b[39m.\u001b[39mexecute(sql)\n\u001b[0;32m     63\u001b[0m sql\u001b[39m=\u001b[39m\u001b[39mf\u001b[39m\u001b[39m\"\u001b[39m\u001b[39mREPLACE INTO attempt VALUES (\u001b[39m\u001b[39m{\u001b[39;00mr\u001b[39m.\u001b[39mnumber\u001b[39m}\u001b[39;00m\u001b[39m, 0, \u001b[39m\u001b[39m{\u001b[39;00mr\u001b[39m.\u001b[39misSolved\u001b[39m}\u001b[39;00m\u001b[39m);\u001b[39m\u001b[39m\"\u001b[39m\n\u001b[0;32m     64\u001b[0m curs\u001b[39m.\u001b[39mexecute(sql)\n",
      "File \u001b[1;32mc:\\Users\\Kyeul\\anaconda3\\envs\\autoCommit\\lib\\site-packages\\pymysql\\cursors.py:148\u001b[0m, in \u001b[0;36mCursor.execute\u001b[1;34m(self, query, args)\u001b[0m\n\u001b[0;32m    144\u001b[0m     \u001b[39mpass\u001b[39;00m\n\u001b[0;32m    146\u001b[0m query \u001b[39m=\u001b[39m \u001b[39mself\u001b[39m\u001b[39m.\u001b[39mmogrify(query, args)\n\u001b[1;32m--> 148\u001b[0m result \u001b[39m=\u001b[39m \u001b[39mself\u001b[39;49m\u001b[39m.\u001b[39;49m_query(query)\n\u001b[0;32m    149\u001b[0m \u001b[39mself\u001b[39m\u001b[39m.\u001b[39m_executed \u001b[39m=\u001b[39m query\n\u001b[0;32m    150\u001b[0m \u001b[39mreturn\u001b[39;00m result\n",
      "File \u001b[1;32mc:\\Users\\Kyeul\\anaconda3\\envs\\autoCommit\\lib\\site-packages\\pymysql\\cursors.py:310\u001b[0m, in \u001b[0;36mCursor._query\u001b[1;34m(self, q)\u001b[0m\n\u001b[0;32m    308\u001b[0m \u001b[39mself\u001b[39m\u001b[39m.\u001b[39m_last_executed \u001b[39m=\u001b[39m q\n\u001b[0;32m    309\u001b[0m \u001b[39mself\u001b[39m\u001b[39m.\u001b[39m_clear_result()\n\u001b[1;32m--> 310\u001b[0m conn\u001b[39m.\u001b[39;49mquery(q)\n\u001b[0;32m    311\u001b[0m \u001b[39mself\u001b[39m\u001b[39m.\u001b[39m_do_get_result()\n\u001b[0;32m    312\u001b[0m \u001b[39mreturn\u001b[39;00m \u001b[39mself\u001b[39m\u001b[39m.\u001b[39mrowcount\n",
      "File \u001b[1;32mc:\\Users\\Kyeul\\anaconda3\\envs\\autoCommit\\lib\\site-packages\\pymysql\\connections.py:548\u001b[0m, in \u001b[0;36mConnection.query\u001b[1;34m(self, sql, unbuffered)\u001b[0m\n\u001b[0;32m    546\u001b[0m     sql \u001b[39m=\u001b[39m sql\u001b[39m.\u001b[39mencode(\u001b[39mself\u001b[39m\u001b[39m.\u001b[39mencoding, \u001b[39m\"\u001b[39m\u001b[39msurrogateescape\u001b[39m\u001b[39m\"\u001b[39m)\n\u001b[0;32m    547\u001b[0m \u001b[39mself\u001b[39m\u001b[39m.\u001b[39m_execute_command(COMMAND\u001b[39m.\u001b[39mCOM_QUERY, sql)\n\u001b[1;32m--> 548\u001b[0m \u001b[39mself\u001b[39m\u001b[39m.\u001b[39m_affected_rows \u001b[39m=\u001b[39m \u001b[39mself\u001b[39;49m\u001b[39m.\u001b[39;49m_read_query_result(unbuffered\u001b[39m=\u001b[39;49munbuffered)\n\u001b[0;32m    549\u001b[0m \u001b[39mreturn\u001b[39;00m \u001b[39mself\u001b[39m\u001b[39m.\u001b[39m_affected_rows\n",
      "File \u001b[1;32mc:\\Users\\Kyeul\\anaconda3\\envs\\autoCommit\\lib\\site-packages\\pymysql\\connections.py:775\u001b[0m, in \u001b[0;36mConnection._read_query_result\u001b[1;34m(self, unbuffered)\u001b[0m\n\u001b[0;32m    773\u001b[0m \u001b[39melse\u001b[39;00m:\n\u001b[0;32m    774\u001b[0m     result \u001b[39m=\u001b[39m MySQLResult(\u001b[39mself\u001b[39m)\n\u001b[1;32m--> 775\u001b[0m     result\u001b[39m.\u001b[39;49mread()\n\u001b[0;32m    776\u001b[0m \u001b[39mself\u001b[39m\u001b[39m.\u001b[39m_result \u001b[39m=\u001b[39m result\n\u001b[0;32m    777\u001b[0m \u001b[39mif\u001b[39;00m result\u001b[39m.\u001b[39mserver_status \u001b[39mis\u001b[39;00m \u001b[39mnot\u001b[39;00m \u001b[39mNone\u001b[39;00m:\n",
      "File \u001b[1;32mc:\\Users\\Kyeul\\anaconda3\\envs\\autoCommit\\lib\\site-packages\\pymysql\\connections.py:1156\u001b[0m, in \u001b[0;36mMySQLResult.read\u001b[1;34m(self)\u001b[0m\n\u001b[0;32m   1154\u001b[0m \u001b[39mdef\u001b[39;00m \u001b[39mread\u001b[39m(\u001b[39mself\u001b[39m):\n\u001b[0;32m   1155\u001b[0m     \u001b[39mtry\u001b[39;00m:\n\u001b[1;32m-> 1156\u001b[0m         first_packet \u001b[39m=\u001b[39m \u001b[39mself\u001b[39;49m\u001b[39m.\u001b[39;49mconnection\u001b[39m.\u001b[39;49m_read_packet()\n\u001b[0;32m   1158\u001b[0m         \u001b[39mif\u001b[39;00m first_packet\u001b[39m.\u001b[39mis_ok_packet():\n\u001b[0;32m   1159\u001b[0m             \u001b[39mself\u001b[39m\u001b[39m.\u001b[39m_read_ok_packet(first_packet)\n",
      "File \u001b[1;32mc:\\Users\\Kyeul\\anaconda3\\envs\\autoCommit\\lib\\site-packages\\pymysql\\connections.py:725\u001b[0m, in \u001b[0;36mConnection._read_packet\u001b[1;34m(self, packet_type)\u001b[0m\n\u001b[0;32m    723\u001b[0m     \u001b[39mif\u001b[39;00m \u001b[39mself\u001b[39m\u001b[39m.\u001b[39m_result \u001b[39mis\u001b[39;00m \u001b[39mnot\u001b[39;00m \u001b[39mNone\u001b[39;00m \u001b[39mand\u001b[39;00m \u001b[39mself\u001b[39m\u001b[39m.\u001b[39m_result\u001b[39m.\u001b[39munbuffered_active \u001b[39mis\u001b[39;00m \u001b[39mTrue\u001b[39;00m:\n\u001b[0;32m    724\u001b[0m         \u001b[39mself\u001b[39m\u001b[39m.\u001b[39m_result\u001b[39m.\u001b[39munbuffered_active \u001b[39m=\u001b[39m \u001b[39mFalse\u001b[39;00m\n\u001b[1;32m--> 725\u001b[0m     packet\u001b[39m.\u001b[39;49mraise_for_error()\n\u001b[0;32m    726\u001b[0m \u001b[39mreturn\u001b[39;00m packet\n",
      "File \u001b[1;32mc:\\Users\\Kyeul\\anaconda3\\envs\\autoCommit\\lib\\site-packages\\pymysql\\protocol.py:221\u001b[0m, in \u001b[0;36mMysqlPacket.raise_for_error\u001b[1;34m(self)\u001b[0m\n\u001b[0;32m    219\u001b[0m \u001b[39mif\u001b[39;00m DEBUG:\n\u001b[0;32m    220\u001b[0m     \u001b[39mprint\u001b[39m(\u001b[39m\"\u001b[39m\u001b[39merrno =\u001b[39m\u001b[39m\"\u001b[39m, errno)\n\u001b[1;32m--> 221\u001b[0m err\u001b[39m.\u001b[39;49mraise_mysql_exception(\u001b[39mself\u001b[39;49m\u001b[39m.\u001b[39;49m_data)\n",
      "File \u001b[1;32mc:\\Users\\Kyeul\\anaconda3\\envs\\autoCommit\\lib\\site-packages\\pymysql\\err.py:143\u001b[0m, in \u001b[0;36mraise_mysql_exception\u001b[1;34m(data)\u001b[0m\n\u001b[0;32m    141\u001b[0m \u001b[39mif\u001b[39;00m errorclass \u001b[39mis\u001b[39;00m \u001b[39mNone\u001b[39;00m:\n\u001b[0;32m    142\u001b[0m     errorclass \u001b[39m=\u001b[39m InternalError \u001b[39mif\u001b[39;00m errno \u001b[39m<\u001b[39m \u001b[39m1000\u001b[39m \u001b[39melse\u001b[39;00m OperationalError\n\u001b[1;32m--> 143\u001b[0m \u001b[39mraise\u001b[39;00m errorclass(errno, errval)\n",
      "\u001b[1;31mOperationalError\u001b[0m: (1136, \"Column count doesn't match value count at row 1\")"
     ]
    }
   ],
   "source": [
    "updateDBBaekjoon(dbupdater, df)"
   ]
  },
  {
   "cell_type": "code",
   "execution_count": 1,
   "id": "d9db913b-2c3f-4d96-ae80-f03eef1b2f69",
   "metadata": {},
   "outputs": [],
   "source": [
    "import json\n",
    "import pymysql\n",
    "\n",
    "from selenium import webdriver\n",
    "from selenium.webdriver.common.by import By\n",
    "from selenium.webdriver.support.ui import WebDriverWait\n",
    "from selenium.webdriver.support import expected_conditions as EC\n",
    "from bs4 import BeautifulSoup\n",
    "import time\n",
    "import re\n",
    "\n",
    "import pandas as pd"
   ]
  },
  {
   "cell_type": "code",
   "execution_count": 2,
   "id": "2605fc9a",
   "metadata": {},
   "outputs": [],
   "source": [
    "options = webdriver.ChromeOptions()\n",
    "options.add_experimental_option(\"debuggerAddress\", \"127.0.0.1:9222\")\n",
    "driver = webdriver.Chrome(options=options)"
   ]
  },
  {
   "cell_type": "code",
   "execution_count": 3,
   "id": "1af53e4e",
   "metadata": {},
   "outputs": [],
   "source": [
    "driver.get(\"https://chat.openai.com/chat\")"
   ]
  },
  {
   "cell_type": "code",
   "execution_count": 10,
   "id": "4cf85f92",
   "metadata": {},
   "outputs": [],
   "source": [
    "queryBar = driver.find_element(By.XPATH, '//*[@id=\"__next\"]/div[1]/div[1]/main/div[2]/form/div/div[2]/textarea')\n",
    "queryBar.send_keys(\"GPT 너에 대해서 간략히 소개해줄래?\")\n",
    "time.sleep(2)\n",
    "queryBar.send_keys(\"\\n\")"
   ]
  },
  {
   "cell_type": "code",
   "execution_count": null,
   "id": "102c9e2c",
   "metadata": {},
   "outputs": [],
   "source": [
    "target = '//*[@id=\"__next\"]/div[1]/div[1]/main/div[2]/form/div/div[2]/button/svg'\n",
    "element = WebDriverWait(driver, 60).until(\n",
    "    EC.presence_of_element_located((By.XPATH, target))\n",
    ")\n",
    "\n",
    "answer = driver.find_element(By.XPATH, '//*[@id=\"__next\"]/div[1]/div[1]/main/div[1]/div/div/div/div[2]/div/div[2]')\n",
    "print(answer.text)"
   ]
  },
  {
   "cell_type": "code",
   "execution_count": 10,
   "id": "1cd8dacb",
   "metadata": {},
   "outputs": [],
   "source": [
    "\n",
    "import openai\n",
    "\n",
    "with open('info.json', 'r') as file:\n",
    "    data = json.load(file)\n",
    "    key = data['openai-api']['key']\n",
    "\n",
    "\n",
    "\n",
    "openai.api_key = key\n",
    "\n"
   ]
  },
  {
   "cell_type": "code",
   "execution_count": null,
   "id": "93749025",
   "metadata": {},
   "outputs": [],
   "source": [
    "key"
   ]
  },
  {
   "cell_type": "code",
   "execution_count": 70,
   "metadata": {},
   "outputs": [],
   "source": [
    "number = '1080'\n",
    "title = '행렬'"
   ]
  },
  {
   "cell_type": "code",
   "execution_count": 71,
   "id": "9a5955af",
   "metadata": {},
   "outputs": [],
   "source": [
    "prompt = f\"\"\"\n",
    "백준 https://www.acmicpc.net/problem/{number}, '{title}' 문제 파이썬으로 풀어줘.\n",
    "입력 예시는 작성 하지마.\n",
    "출력 예시도 작성 하지마.\n",
    "설명도 작성 하지마.\n",
    "코드만 작성해줘.\n",
    "\"\"\""
   ]
  },
  {
   "cell_type": "code",
   "execution_count": 72,
   "id": "9e2744ec",
   "metadata": {},
   "outputs": [],
   "source": [
    "response = openai.ChatCompletion.create(\n",
    "  model=\"gpt-3.5-turbo\",\n",
    "  messages=[{\"role\":\"user\", \"content\":prompt}]\n",
    ")\n"
   ]
  },
  {
   "cell_type": "code",
   "execution_count": 73,
   "id": "24f472d0",
   "metadata": {},
   "outputs": [
    {
     "name": "stdout",
     "output_type": "stream",
     "text": [
      "\n",
      "\n",
      "n, m = map(int, input().split())\n",
      "A = [list(map(int, input())) for _ in range(n)]\n",
      "B = [list(map(int, input())) for _ in range(n)]\n",
      "\n",
      "def flip(x, y):\n",
      "    for i in range(x, x + 3):\n",
      "        for j in range(y, y + 3):\n",
      "            A[i][j] ^= 1\n",
      "\n",
      "ans = 0\n",
      "for i in range(n - 2):\n",
      "    for j in range(m - 2):\n",
      "        if A[i][j] != B[i][j]:\n",
      "            flip(i, j)\n",
      "            ans += 1\n",
      "\n",
      "if A == B:\n",
      "    print(ans)\n",
      "else:\n",
      "    print(-1)\n"
     ]
    }
   ],
   "source": [
    "result = response['choices'][0]['message']['content']\n",
    "print(result)"
   ]
  },
  {
   "cell_type": "code",
   "execution_count": 36,
   "id": "d9bb3af2",
   "metadata": {},
   "outputs": [],
   "source": [
    "with open('result.txt', 'w', encoding='utf8') as f:\n",
    "    f.write(result)"
   ]
  },
  {
   "cell_type": "code",
   "execution_count": null,
   "id": "d26818a4",
   "metadata": {},
   "outputs": [],
   "source": []
  }
 ],
 "metadata": {
  "kernelspec": {
   "display_name": "Python 3",
   "language": "python",
   "name": "python3"
  },
  "language_info": {
   "codemirror_mode": {
    "name": "ipython",
    "version": 3
   },
   "file_extension": ".py",
   "mimetype": "text/x-python",
   "name": "python",
   "nbconvert_exporter": "python",
   "pygments_lexer": "ipython3",
   "version": "3.10.9"
  },
  "vscode": {
   "interpreter": {
    "hash": "240290f4f9dc12487d8c6a5f0a059e6976bab6c6fbff4085d72ce8860e9e579e"
   }
  }
 },
 "nbformat": 4,
 "nbformat_minor": 5
}
