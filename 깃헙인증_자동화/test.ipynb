{
 "cells": [
  {
   "cell_type": "code",
   "execution_count": 1,
   "metadata": {},
   "outputs": [],
   "source": [
    "from selenium import webdriver\n",
    "from selenium.webdriver.common.by import By\n",
    "\n",
    "import pandas as pd"
   ]
  },
  {
   "cell_type": "code",
   "execution_count": null,
   "metadata": {},
   "outputs": [],
   "source": [
    "login_url = \"https://www.acmicpc.net/login?next=%2Fsso%3Fsso%3Dbm9uY2U9YTM5YWVhYTk4MWNhYjU1YWEwZDRlZDQ4Nzc3NzEzOGM%253D%26sig%3D1ca260b9abbbe4df2b002254dd94a7f31b373ff0270b243408963284f8fcd7a1%26redirect%3Dhttps%253A%252F%252Fsolved.ac%252Fapi%252Fv3%252Fauth%252Fsso%253Fprev%253D%25252F\"\n",
    "url = 'https://solved.ac/problems/level/2'\n",
    "\n",
    "# 크롬 드라이버 실행\n",
    "driver = webdriver.Chrome()\n",
    "\n",
    "# User-Agent 설정\n",
    "user_agent = 'Mozilla/5.0 (Windows NT 10.0; Win64; x64) AppleWebKit/537.36 (KHTML, like Gecko) Chrome/110.0.0.0 Safari/537.36'\n",
    "options = webdriver.ChromeOptions()"
   ]
  },
  {
   "cell_type": "code",
   "execution_count": 2,
   "metadata": {},
   "outputs": [],
   "source": [
    "driver.get(login_url)"
   ]
  },
  {
   "cell_type": "code",
   "execution_count": 3,
   "metadata": {},
   "outputs": [],
   "source": [
    "user_id = driver.find_element(By.XPATH, '//*[@id=\"login_form\"]/div[2]/input')\n",
    "user_pw = driver.find_element(By.XPATH, '//*[@id=\"login_form\"]/div[3]/input')\n",
    "\n",
    "user_id.send_keys('')\n",
    "user_pw.send_keys('')\n",
    "\n",
    "login_bt = driver.find_element(By.XPATH, '//*[@id=\"submit_button\"]')\n",
    "login_bt.click()\n",
    "\n"
   ]
  },
  {
   "cell_type": "code",
   "execution_count": 4,
   "metadata": {},
   "outputs": [],
   "source": [
    "login_bt_2 = driver.find_element(By.XPATH, '//*[@id=\"login_form\"]/div[4]/div[2]/a')\n",
    "login_bt_2.click()"
   ]
  },
  {
   "cell_type": "code",
   "execution_count": 5,
   "metadata": {},
   "outputs": [],
   "source": [
    "# URL 접속\n",
    "driver.get(url)"
   ]
  },
  {
   "cell_type": "code",
   "execution_count": null,
   "metadata": {},
   "outputs": [],
   "source": [
    "# 결과를 저장할 df 생성\n",
    "\n",
    "df = pd.DataFrame(columns=['title', 'urls', 'number'])"
   ]
  },
  {
   "cell_type": "code",
   "execution_count": 6,
   "metadata": {},
   "outputs": [
    {
     "name": "stdout",
     "output_type": "stream",
     "text": [
      "https://www.acmicpc.net/problem/1264\n",
      "https://www.acmicpc.net/problem/2083\n",
      "https://www.acmicpc.net/problem/2393\n",
      "https://www.acmicpc.net/problem/2439\n",
      "https://www.acmicpc.net/problem/2440\n",
      "https://www.acmicpc.net/problem/2480\n",
      "https://www.acmicpc.net/problem/2530\n",
      "https://www.acmicpc.net/problem/2742\n",
      "https://www.acmicpc.net/problem/2752\n",
      "https://www.acmicpc.net/problem/2845\n",
      "https://www.acmicpc.net/problem/3046\n",
      "https://www.acmicpc.net/problem/3765\n",
      "https://www.acmicpc.net/problem/4299\n",
      "https://www.acmicpc.net/problem/4470\n",
      "https://www.acmicpc.net/problem/4589\n",
      "https://www.acmicpc.net/problem/4696\n",
      "https://www.acmicpc.net/problem/4714\n",
      "https://www.acmicpc.net/problem/5300\n",
      "https://www.acmicpc.net/problem/5357\n",
      "https://www.acmicpc.net/problem/5358\n",
      "https://www.acmicpc.net/problem/5524\n",
      "https://www.acmicpc.net/problem/5532\n",
      "https://www.acmicpc.net/problem/5543\n",
      "https://www.acmicpc.net/problem/5554\n",
      "https://www.acmicpc.net/problem/5575\n",
      "https://www.acmicpc.net/problem/5596\n",
      "https://www.acmicpc.net/problem/5717\n",
      "https://www.acmicpc.net/problem/5928\n",
      "https://www.acmicpc.net/problem/6749\n",
      "https://www.acmicpc.net/problem/6763\n",
      "https://www.acmicpc.net/problem/6764\n",
      "https://www.acmicpc.net/problem/6778\n",
      "https://www.acmicpc.net/problem/6810\n",
      "https://www.acmicpc.net/problem/6825\n",
      "https://www.acmicpc.net/problem/6841\n",
      "https://www.acmicpc.net/problem/6887\n",
      "https://www.acmicpc.net/problem/6888\n",
      "https://www.acmicpc.net/problem/6916\n",
      "https://www.acmicpc.net/problem/7595\n",
      "https://www.acmicpc.net/problem/8558\n",
      "https://www.acmicpc.net/problem/8674\n",
      "https://www.acmicpc.net/problem/8710\n",
      "https://www.acmicpc.net/problem/8718\n",
      "https://www.acmicpc.net/problem/8723\n",
      "https://www.acmicpc.net/problem/8760\n",
      "https://www.acmicpc.net/problem/9316\n",
      "https://www.acmicpc.net/problem/9772\n",
      "https://www.acmicpc.net/problem/9782\n",
      "https://www.acmicpc.net/problem/10039\n",
      "https://www.acmicpc.net/problem/10101\n"
     ]
    }
   ],
   "source": [
    "\n",
    "# span 태그의 'class'가 'css-1raije9'인 element 찾기\n",
    "span_elems = driver.find_elements(By.CLASS_NAME, 'css-1raije9')\n",
    "\n",
    "result = []\n",
    "\n",
    "# a 태그의 href 속성값 가져오기\n",
    "for elem in span_elems:\n",
    "    a_elem = elem.find_element(By.CSS_SELECTOR, 'a')\n",
    "    href_val = a_elem.get_attribute('href')\n",
    "\n",
    "    result.append(href_val)\n",
    "    print(href_val)\n"
   ]
  },
  {
   "cell_type": "code",
   "execution_count": 8,
   "metadata": {},
   "outputs": [
    {
     "name": "stdout",
     "output_type": "stream",
     "text": [
      "https://www.acmicpc.net/problem/2439\n",
      "https://www.acmicpc.net/problem/2440\n",
      "https://www.acmicpc.net/problem/2742\n",
      "https://www.acmicpc.net/problem/2845\n",
      "https://www.acmicpc.net/problem/5543\n",
      "https://www.acmicpc.net/problem/10039\n"
     ]
    }
   ],
   "source": [
    "\n",
    "# span 태그의 'class'가 'css-1raije9'인 element 찾기\n",
    "sloved = driver.find_elements(By.CLASS_NAME, 'ac')\n",
    "\n",
    "sloved_result = []\n",
    "\n",
    "# a 태그의 href 속성값 가져오기\n",
    "for sv in sloved:\n",
    "    a_elem = sv.find_element(By.CSS_SELECTOR, 'a')\n",
    "    href_val = a_elem.get_attribute('href')\n",
    "\n",
    "    sloved_result.append(href_val)\n",
    "    print(href_val)\n"
   ]
  },
  {
   "cell_type": "code",
   "execution_count": 10,
   "metadata": {},
   "outputs": [
    {
     "name": "stdout",
     "output_type": "stream",
     "text": [
      "{'https://www.acmicpc.net/problem/9772', 'https://www.acmicpc.net/problem/8674', 'https://www.acmicpc.net/problem/3046', 'https://www.acmicpc.net/problem/2530', 'https://www.acmicpc.net/problem/2480', 'https://www.acmicpc.net/problem/5575', 'https://www.acmicpc.net/problem/5717', 'https://www.acmicpc.net/problem/6887', 'https://www.acmicpc.net/problem/4589', 'https://www.acmicpc.net/problem/4714', 'https://www.acmicpc.net/problem/2083', 'https://www.acmicpc.net/problem/2393', 'https://www.acmicpc.net/problem/2752', 'https://www.acmicpc.net/problem/3765', 'https://www.acmicpc.net/problem/6888', 'https://www.acmicpc.net/problem/6825', 'https://www.acmicpc.net/problem/4299', 'https://www.acmicpc.net/problem/8718', 'https://www.acmicpc.net/problem/5524', 'https://www.acmicpc.net/problem/6764', 'https://www.acmicpc.net/problem/9316', 'https://www.acmicpc.net/problem/5596', 'https://www.acmicpc.net/problem/5928', 'https://www.acmicpc.net/problem/4696', 'https://www.acmicpc.net/problem/5300', 'https://www.acmicpc.net/problem/6810', 'https://www.acmicpc.net/problem/4470', 'https://www.acmicpc.net/problem/8558', 'https://www.acmicpc.net/problem/6749', 'https://www.acmicpc.net/problem/5358', 'https://www.acmicpc.net/problem/6763', 'https://www.acmicpc.net/problem/8710', 'https://www.acmicpc.net/problem/8760', 'https://www.acmicpc.net/problem/5357', 'https://www.acmicpc.net/problem/8723', 'https://www.acmicpc.net/problem/5532', 'https://www.acmicpc.net/problem/1264', 'https://www.acmicpc.net/problem/5554', 'https://www.acmicpc.net/problem/6778', 'https://www.acmicpc.net/problem/6916', 'https://www.acmicpc.net/problem/9782', 'https://www.acmicpc.net/problem/7595', 'https://www.acmicpc.net/problem/10101', 'https://www.acmicpc.net/problem/6841'}\n"
     ]
    }
   ],
   "source": [
    "result = set(result) - set(sloved_result)\n",
    "print(result)"
   ]
  },
  {
   "cell_type": "code",
   "execution_count": 13,
   "metadata": {},
   "outputs": [
    {
     "data": {
      "text/plain": [
       "'5543'"
      ]
     },
     "execution_count": 13,
     "metadata": {},
     "output_type": "execute_result"
    }
   ],
   "source": [
    "'https://www.acmicpc.net/problem/5543'.split('/')[-1]"
   ]
  },
  {
   "cell_type": "code",
   "execution_count": 11,
   "metadata": {},
   "outputs": [
    {
     "ename": "KeyboardInterrupt",
     "evalue": "",
     "output_type": "error",
     "traceback": [
      "\u001b[1;31m---------------------------------------------------------------------------\u001b[0m",
      "\u001b[1;31mtimeout\u001b[0m                                   Traceback (most recent call last)",
      "File \u001b[1;32mc:\\Users\\Kyeul\\anaconda3\\lib\\socket.py:832\u001b[0m, in \u001b[0;36mcreate_connection\u001b[1;34m(address, timeout, source_address)\u001b[0m\n\u001b[0;32m    831\u001b[0m     sock\u001b[39m.\u001b[39mbind(source_address)\n\u001b[1;32m--> 832\u001b[0m sock\u001b[39m.\u001b[39;49mconnect(sa)\n\u001b[0;32m    833\u001b[0m \u001b[39m# Break explicitly a reference cycle\u001b[39;00m\n",
      "\u001b[1;31mtimeout\u001b[0m: timed out",
      "\nDuring handling of the above exception, another exception occurred:\n",
      "\u001b[1;31mKeyboardInterrupt\u001b[0m                         Traceback (most recent call last)",
      "\u001b[1;32mc:\\Users\\Kyeul\\Desktop\\code\\자동화\\깃헙인증_자동화\\test.ipynb 셀 12\u001b[0m in \u001b[0;36m<cell line: 2>\u001b[1;34m()\u001b[0m\n\u001b[0;32m      <a href='vscode-notebook-cell:/c%3A/Users/Kyeul/Desktop/code/%EC%9E%90%EB%8F%99%ED%99%94/%EA%B9%83%ED%97%99%EC%9D%B8%EC%A6%9D_%EC%9E%90%EB%8F%99%ED%99%94/test.ipynb#W4sZmlsZQ%3D%3D?line=0'>1</a>\u001b[0m \u001b[39m# 크롬 드라이버 종료\u001b[39;00m\n\u001b[1;32m----> <a href='vscode-notebook-cell:/c%3A/Users/Kyeul/Desktop/code/%EC%9E%90%EB%8F%99%ED%99%94/%EA%B9%83%ED%97%99%EC%9D%B8%EC%A6%9D_%EC%9E%90%EB%8F%99%ED%99%94/test.ipynb#W4sZmlsZQ%3D%3D?line=1'>2</a>\u001b[0m driver\u001b[39m.\u001b[39;49mquit()\n",
      "File \u001b[1;32mc:\\Users\\Kyeul\\anaconda3\\lib\\site-packages\\selenium\\webdriver\\chromium\\webdriver.py:242\u001b[0m, in \u001b[0;36mChromiumDriver.quit\u001b[1;34m(self)\u001b[0m\n\u001b[0;32m    240\u001b[0m     \u001b[39mpass\u001b[39;00m\n\u001b[0;32m    241\u001b[0m \u001b[39mfinally\u001b[39;00m:\n\u001b[1;32m--> 242\u001b[0m     \u001b[39mself\u001b[39;49m\u001b[39m.\u001b[39;49mservice\u001b[39m.\u001b[39;49mstop()\n",
      "File \u001b[1;32mc:\\Users\\Kyeul\\anaconda3\\lib\\site-packages\\selenium\\webdriver\\common\\service.py:149\u001b[0m, in \u001b[0;36mService.stop\u001b[1;34m(self)\u001b[0m\n\u001b[0;32m    147\u001b[0m \u001b[39mif\u001b[39;00m \u001b[39mself\u001b[39m\u001b[39m.\u001b[39mprocess \u001b[39mis\u001b[39;00m \u001b[39mnot\u001b[39;00m \u001b[39mNone\u001b[39;00m:\n\u001b[0;32m    148\u001b[0m     \u001b[39mtry\u001b[39;00m:\n\u001b[1;32m--> 149\u001b[0m         \u001b[39mself\u001b[39;49m\u001b[39m.\u001b[39;49msend_remote_shutdown_command()\n\u001b[0;32m    150\u001b[0m     \u001b[39mexcept\u001b[39;00m \u001b[39mTypeError\u001b[39;00m:\n\u001b[0;32m    151\u001b[0m         \u001b[39mpass\u001b[39;00m\n",
      "File \u001b[1;32mc:\\Users\\Kyeul\\anaconda3\\lib\\site-packages\\selenium\\webdriver\\common\\service.py:133\u001b[0m, in \u001b[0;36mService.send_remote_shutdown_command\u001b[1;34m(self)\u001b[0m\n\u001b[0;32m    130\u001b[0m     \u001b[39mreturn\u001b[39;00m\n\u001b[0;32m    132\u001b[0m \u001b[39mfor\u001b[39;00m _ \u001b[39min\u001b[39;00m \u001b[39mrange\u001b[39m(\u001b[39m30\u001b[39m):\n\u001b[1;32m--> 133\u001b[0m     \u001b[39mif\u001b[39;00m \u001b[39mnot\u001b[39;00m \u001b[39mself\u001b[39;49m\u001b[39m.\u001b[39;49mis_connectable():\n\u001b[0;32m    134\u001b[0m         \u001b[39mbreak\u001b[39;00m\n\u001b[0;32m    135\u001b[0m     sleep(\u001b[39m1\u001b[39m)\n",
      "File \u001b[1;32mc:\\Users\\Kyeul\\anaconda3\\lib\\site-packages\\selenium\\webdriver\\common\\service.py:122\u001b[0m, in \u001b[0;36mService.is_connectable\u001b[1;34m(self)\u001b[0m\n\u001b[0;32m    119\u001b[0m \u001b[39mdef\u001b[39;00m \u001b[39mis_connectable\u001b[39m(\u001b[39mself\u001b[39m) \u001b[39m-\u001b[39m\u001b[39m>\u001b[39m \u001b[39mbool\u001b[39m:\n\u001b[0;32m    120\u001b[0m     \u001b[39m\"\"\"Establishes a socket connection to determine if the service running\u001b[39;00m\n\u001b[0;32m    121\u001b[0m \u001b[39m    on the port is accessible.\"\"\"\u001b[39;00m\n\u001b[1;32m--> 122\u001b[0m     \u001b[39mreturn\u001b[39;00m utils\u001b[39m.\u001b[39;49mis_connectable(\u001b[39mself\u001b[39;49m\u001b[39m.\u001b[39;49mport)\n",
      "File \u001b[1;32mc:\\Users\\Kyeul\\anaconda3\\lib\\site-packages\\selenium\\webdriver\\common\\utils.py:102\u001b[0m, in \u001b[0;36mis_connectable\u001b[1;34m(port, host)\u001b[0m\n\u001b[0;32m    100\u001b[0m socket_ \u001b[39m=\u001b[39m \u001b[39mNone\u001b[39;00m\n\u001b[0;32m    101\u001b[0m \u001b[39mtry\u001b[39;00m:\n\u001b[1;32m--> 102\u001b[0m     socket_ \u001b[39m=\u001b[39m socket\u001b[39m.\u001b[39;49mcreate_connection((host, port), \u001b[39m1\u001b[39;49m)\n\u001b[0;32m    103\u001b[0m     result \u001b[39m=\u001b[39m \u001b[39mTrue\u001b[39;00m\n\u001b[0;32m    104\u001b[0m \u001b[39mexcept\u001b[39;00m _is_connectable_exceptions:\n",
      "File \u001b[1;32mc:\\Users\\Kyeul\\anaconda3\\lib\\socket.py:832\u001b[0m, in \u001b[0;36mcreate_connection\u001b[1;34m(address, timeout, source_address)\u001b[0m\n\u001b[0;32m    830\u001b[0m \u001b[39mif\u001b[39;00m source_address:\n\u001b[0;32m    831\u001b[0m     sock\u001b[39m.\u001b[39mbind(source_address)\n\u001b[1;32m--> 832\u001b[0m sock\u001b[39m.\u001b[39;49mconnect(sa)\n\u001b[0;32m    833\u001b[0m \u001b[39m# Break explicitly a reference cycle\u001b[39;00m\n\u001b[0;32m    834\u001b[0m err \u001b[39m=\u001b[39m \u001b[39mNone\u001b[39;00m\n",
      "\u001b[1;31mKeyboardInterrupt\u001b[0m: "
     ]
    }
   ],
   "source": [
    "# 크롬 드라이버 종료\n",
    "driver.quit()"
   ]
  }
 ],
 "metadata": {
  "kernelspec": {
   "display_name": "base",
   "language": "python",
   "name": "python3"
  },
  "language_info": {
   "codemirror_mode": {
    "name": "ipython",
    "version": 3
   },
   "file_extension": ".py",
   "mimetype": "text/x-python",
   "name": "python",
   "nbconvert_exporter": "python",
   "pygments_lexer": "ipython3",
   "version": "3.9.12"
  },
  "orig_nbformat": 4,
  "vscode": {
   "interpreter": {
    "hash": "d054d5427f79aa578150726ee3df718b10952c087c2085e030b0afe2bfa7723b"
   }
  }
 },
 "nbformat": 4,
 "nbformat_minor": 2
}
