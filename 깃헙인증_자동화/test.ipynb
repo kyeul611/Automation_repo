{
 "cells": [
  {
   "cell_type": "code",
   "execution_count": 2,
   "id": "d9db913b-2c3f-4d96-ae80-f03eef1b2f69",
   "metadata": {},
   "outputs": [],
   "source": [
    "import json\n",
    "import pymysql\n",
    "\n",
    "from selenium import webdriver\n",
    "from selenium.webdriver.common.by import By\n",
    "from selenium.webdriver.support.ui import WebDriverWait\n",
    "from selenium.webdriver.support import expected_conditions as EC\n",
    "from bs4 import BeautifulSoup\n",
    "from fake_useragent import UserAgent\n",
    "import time\n",
    "import re\n",
    "\n",
    "import pandas as pd"
   ]
  },
  {
   "cell_type": "code",
   "execution_count": 3,
   "id": "2605fc9a",
   "metadata": {},
   "outputs": [],
   "source": [
    "options = webdriver.ChromeOptions()\n",
    "options.add_experimental_option(\"debuggerAddress\", \"127.0.0.1:9222\")\n",
    "driver = webdriver.Chrome(options=options)"
   ]
  },
  {
   "cell_type": "code",
   "execution_count": 4,
   "id": "1af53e4e",
   "metadata": {},
   "outputs": [],
   "source": [
    "driver.get(\"https://chat.openai.com/chat\")"
   ]
  },
  {
   "cell_type": "code",
   "execution_count": 10,
   "id": "4cf85f92",
   "metadata": {},
   "outputs": [],
   "source": [
    "queryBar = driver.find_element(By.XPATH, '//*[@id=\"__next\"]/div[1]/div[1]/main/div[2]/form/div/div[2]/textarea')\n",
    "queryBar.send_keys(\"GPT 너에 대해서 간략히 소개해줄래?\")\n",
    "time.sleep(2)\n",
    "queryBar.send_keys(\"\\n\")"
   ]
  },
  {
   "cell_type": "code",
   "execution_count": null,
   "id": "102c9e2c",
   "metadata": {},
   "outputs": [],
   "source": [
    "target = '//*[@id=\"__next\"]/div[1]/div[1]/main/div[2]/form/div/div[2]/button/svg'\n",
    "element = WebDriverWait(driver, 60).until(\n",
    "    EC.presence_of_element_located((By.XPATH, target))\n",
    ")\n",
    "\n",
    "answer = driver.find_element(By.XPATH, '//*[@id=\"__next\"]/div[1]/div[1]/main/div[1]/div/div/div/div[2]/div/div[2]')\n",
    "print(answer.text)"
   ]
  }
 ],
 "metadata": {
  "kernelspec": {
   "display_name": "Python 3 (ipykernel)",
   "language": "python",
   "name": "python3"
  },
  "language_info": {
   "codemirror_mode": {
    "name": "ipython",
    "version": 3
   },
   "file_extension": ".py",
   "mimetype": "text/x-python",
   "name": "python",
   "nbconvert_exporter": "python",
   "pygments_lexer": "ipython3",
   "version": "3.10.9"
  }
 },
 "nbformat": 4,
 "nbformat_minor": 5
}
